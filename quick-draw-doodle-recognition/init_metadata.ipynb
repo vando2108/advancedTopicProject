{
 "cells": [
  {
   "cell_type": "code",
   "execution_count": 1,
   "metadata": {},
   "outputs": [],
   "source": [
    "import os\n",
    "import numpy as np\n",
    "import pickle\n",
    "import random"
   ]
  },
  {
   "cell_type": "code",
   "execution_count": 2,
   "metadata": {},
   "outputs": [],
   "source": [
    "folder_name = 'processed-2'\n",
    "num_class = 340\n",
    "num_per_cate = 500\n",
    "train_split = 0.8\n",
    "valid_split = 0.1"
   ]
  },
  {
   "cell_type": "code",
   "execution_count": 3,
   "metadata": {},
   "outputs": [],
   "source": [
    "labels = pickle.load(open('meta/%s/labels.bin' % folder_name, 'rb'))"
   ]
  },
  {
   "cell_type": "code",
   "execution_count": 4,
   "metadata": {},
   "outputs": [],
   "source": [
    "ids = os.listdir('data/%s/' % folder_name)\n",
    "ids.sort(key = lambda x : labels[x])"
   ]
  },
  {
   "cell_type": "code",
   "execution_count": 5,
   "metadata": {},
   "outputs": [
    {
     "name": "stdout",
     "output_type": "stream",
     "text": [
      "None\n",
      "None\n",
      "None\n"
     ]
    }
   ],
   "source": [
    "partitions = {\n",
    "    'train' : [], # list of npy files (string) used in training\n",
    "    'validation' : [],\n",
    "    'test' : []\n",
    "}\n",
    "\n",
    "for i in range(num_class):\n",
    "    a = i * num_per_cate\n",
    "    b = a + int(train_split * num_per_cate)\n",
    "    c = b + int(valid_split * num_per_cate)\n",
    "    d = (i + 1) * num_per_cate\n",
    "    \n",
    "    partitions['train'] += ids[a:b]\n",
    "    partitions['validation'] += ids[b:c]\n",
    "    partitions['test'] += ids[c:d]\n",
    "    \n",
    "for x in partitions.values():\n",
    "    print(random.shuffle(x))"
   ]
  },
  {
   "cell_type": "code",
   "execution_count": 6,
   "metadata": {},
   "outputs": [],
   "source": [
    "pickle.dump(partitions, open('meta/%s/partitions.bin' % folder_name, 'wb'))"
   ]
  }
 ],
 "metadata": {
  "kernelspec": {
   "display_name": "Python [conda env:python38]",
   "language": "python",
   "name": "conda-env-python38-py"
  },
  "language_info": {
   "codemirror_mode": {
    "name": "ipython",
    "version": 3
   },
   "file_extension": ".py",
   "mimetype": "text/x-python",
   "name": "python",
   "nbconvert_exporter": "python",
   "pygments_lexer": "ipython3",
   "version": "3.8.3"
  }
 },
 "nbformat": 4,
 "nbformat_minor": 4
}
