{
 "cells": [
  {
   "cell_type": "code",
   "execution_count": 1,
   "metadata": {},
   "outputs": [],
   "source": [
    "import os\n",
    "import pickle\n",
    "from data_generator import DataGenerator\n",
    "from tensorflow.keras.layers import *\n",
    "from tensorflow.keras.optimizers import *\n",
    "from tensorflow.keras.models import Model\n",
    "from tensorflow import keras"
   ]
  },
  {
   "cell_type": "code",
   "execution_count": 2,
   "metadata": {},
   "outputs": [],
   "source": [
    "image_size = (64, 64)\n",
    "image_channels = 1\n",
    "n_classes = 4\n",
    "\n",
    "folder_name = 'processed-1'\n",
    "partitions = pickle.load(open('meta/%s/partitions.bin' % folder_name, 'rb'))\n",
    "labels = pickle.load(open('meta/%s/labels.bin' % folder_name, 'rb'))"
   ]
  },
  {
   "cell_type": "markdown",
   "metadata": {},
   "source": [
    "# Model"
   ]
  },
  {
   "cell_type": "code",
   "execution_count": 4,
   "metadata": {},
   "outputs": [],
   "source": [
    "model = keras.Sequential([\n",
    "    Conv2D(16, (3,3), padding='same', activation='relu', input_shape=(64, 64, 1)),\n",
    "    MaxPooling2D((2, 2), strides=2),\n",
    "    BatchNormalization(),\n",
    "    \n",
    "    Conv2D(32, (3,3), padding='same', activation='relu'),\n",
    "    MaxPooling2D((2, 2), strides=2),\n",
    "    BatchNormalization(),\n",
    "    \n",
    "    Conv2D(64, (3,3), padding='same', activation='relu'),\n",
    "    MaxPooling2D((2, 2), strides=2),\n",
    "    BatchNormalization(),\n",
    "    \n",
    "    Flatten(),\n",
    "    Dense(128, activation='relu'),\n",
    "    Dropout(0.5),\n",
    "    Dense(n_classes, activation='softmax')\n",
    "])\n",
    "\n",
    "model.compile(\n",
    "    optimizer = Adam(),\n",
    "    loss = 'categorical_crossentropy',\n",
    "    metrics = ['accuracy']\n",
    ")"
   ]
  },
  {
   "cell_type": "code",
   "execution_count": 5,
   "metadata": {},
   "outputs": [
    {
     "name": "stdout",
     "output_type": "stream",
     "text": [
      "Epoch 1/5\n",
      "1500/1500 [==============================] - 942s 628ms/step - loss: 0.2698 - accuracy: 0.9232 - val_loss: 0.1805 - val_accuracy: 0.9465\n",
      "Epoch 2/5\n",
      "1500/1500 [==============================] - 911s 608ms/step - loss: 0.1967 - accuracy: 0.9425 - val_loss: 0.1868 - val_accuracy: 0.9486\n",
      "Epoch 3/5\n",
      "1500/1500 [==============================] - 902s 601ms/step - loss: 0.1798 - accuracy: 0.9470 - val_loss: 0.1602 - val_accuracy: 0.9531\n",
      "Epoch 4/5\n",
      "1500/1500 [==============================] - 907s 604ms/step - loss: 0.1667 - accuracy: 0.9497 - val_loss: 0.1650 - val_accuracy: 0.9528\n",
      "Epoch 5/5\n",
      "1500/1500 [==============================] - 810s 540ms/step - loss: 0.1548 - accuracy: 0.9535 - val_loss: 0.1655 - val_accuracy: 0.9530\n"
     ]
    }
   ],
   "source": [
    "history = model.fit(\n",
    "    DataGenerator(\n",
    "        list_IDs = partitions['train'],\n",
    "        labels = labels,\n",
    "        batch_size = 64,\n",
    "        dim = image_size, \n",
    "        n_channels = image_channels,\n",
    "        n_classes = n_classes,\n",
    "        shuffle = True,\n",
    "        directory = 'data/%s/' % folder_name\n",
    "    ),\n",
    "    validation_data = DataGenerator(\n",
    "        list_IDs = partitions['validation'],\n",
    "        labels = labels,\n",
    "        batch_size = 1,\n",
    "        dim = image_size, \n",
    "        n_channels = image_channels,\n",
    "        n_classes = n_classes,\n",
    "        shuffle = False,\n",
    "        directory = 'data/%s/' % folder_name\n",
    "    ),\n",
    "    epochs = 5\n",
    ")"
   ]
  },
  {
   "cell_type": "code",
   "execution_count": 6,
   "metadata": {},
   "outputs": [],
   "source": [
    "model.save('models/002_5eps.h5')"
   ]
  }
 ],
 "metadata": {
  "kernelspec": {
   "display_name": "Python 3.8.3 64-bit ('python38': conda)",
   "language": "python",
   "name": "python38364bitpython38conda62f8b6a22303428bafce4c8f8df402aa"
  },
  "language_info": {
   "codemirror_mode": {
    "name": "ipython",
    "version": 3
   },
   "file_extension": ".py",
   "mimetype": "text/x-python",
   "name": "python",
   "nbconvert_exporter": "python",
   "pygments_lexer": "ipython3",
   "version": "3.8.3"
  }
 },
 "nbformat": 4,
 "nbformat_minor": 4
}
