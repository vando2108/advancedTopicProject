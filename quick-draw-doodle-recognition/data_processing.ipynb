{
 "cells": [
  {
   "cell_type": "code",
   "execution_count": 16,
   "metadata": {},
   "outputs": [],
   "source": [
    "import matplotlib.pyplot as plt\n",
    "import numpy as np\n",
    "import pandas as pd\n",
    "import os\n",
    "import ast\n",
    "import cv2 as cv\n",
    "import pickle"
   ]
  },
  {
   "cell_type": "code",
   "execution_count": 7,
   "metadata": {},
   "outputs": [],
   "source": [
    "image_size = (64, 64)\n",
    "num_per_cate = 500 # number of taken images in each category\n",
    "taken_categories = os.listdir('data/csv/') # list of taken classes\n",
    "labels = {} # <file name> : <label>\n",
    "folder_name = 'processed-2' # where to save *.npy files"
   ]
  },
  {
   "cell_type": "markdown",
   "metadata": {},
   "source": [
    "# Dataset"
   ]
  },
  {
   "cell_type": "code",
   "execution_count": 8,
   "metadata": {},
   "outputs": [],
   "source": [
    "def drawing_to_numpy(drawing):\n",
    "    \n",
    "    drawing = ast.literal_eval(drawing)\n",
    "    image = np.zeros((256, 256))\n",
    "    \n",
    "    for stroke in drawing:\n",
    "        pre_x = pre_y = None\n",
    "        for x, y in zip(stroke[0], stroke[1]):\n",
    "            if pre_x is not None:\n",
    "                cv.line(image, (pre_x, pre_y), (x, y), 255, 5)\n",
    "            pre_x, pre_y = x, y\n",
    "    \n",
    "    return image"
   ]
  },
  {
   "cell_type": "code",
   "execution_count": 9,
   "metadata": {},
   "outputs": [],
   "source": [
    "def show_category(name):\n",
    "    \n",
    "    data = pd.read_csv('data/csv/' + name)\n",
    "    ids = np.random.choice(data['drawing'].count(), 10)\n",
    "    \n",
    "    for i in range(10):\n",
    "        image = drawing_to_numpy(data['drawing'][ids[i]])\n",
    "        \n",
    "        plt.figure()\n",
    "        plt.imshow(255 - image, cmap='gray')"
   ]
  },
  {
   "cell_type": "code",
   "execution_count": 10,
   "metadata": {},
   "outputs": [],
   "source": [
    "def process(category, label, count, folder_name):\n",
    "    \"\"\"\n",
    "    category : name of the csv file\n",
    "    label : index of category\n",
    "    count : number of taken images in the category\n",
    "    folder_name : where to save npy files\n",
    "    \"\"\"\n",
    "    data = pd.read_csv('data/csv/' + category)\n",
    "    drawings = data['drawing'].to_list()\n",
    "    key_ids = data['key_id'].to_list()\n",
    "    \n",
    "    for i, (drawing, key_id) in enumerate(zip(drawings, key_ids)):\n",
    "        if i == count: break\n",
    "        \n",
    "        image = drawing_to_numpy(drawing)\n",
    "        image = cv.resize(image, image_size, interpolation=cv.INTER_AREA).reshape((*image_size, 1))\n",
    "        \n",
    "        save_name = str(key_id) + '.npy'\n",
    "        np.save('data/%s/%s' % (folder_name, save_name), image)\n",
    "        \n",
    "        labels[save_name] = label"
   ]
  },
  {
   "cell_type": "code",
   "execution_count": 13,
   "metadata": {},
   "outputs": [],
   "source": [
    "def create_dataset():\n",
    "    # process category in list\n",
    "    for category in taken_categories:\n",
    "        process(category, taken_categories.index(category), num_per_cate, folder_name)\n",
    "        \n",
    "    # process the others as a new category\n",
    "    others = os.listdir('data/csv/')\n",
    "    for name in taken_categories: \n",
    "        others.remove(name)\n",
    "    if len(others) == 0: return\n",
    "    count = num_per_cate // len(others)\n",
    "    \n",
    "    for category in others:\n",
    "        if category == others[-1]:\n",
    "            count += num_per_cate % len(others) #the last category take residual amount\n",
    "        process(category, len(taken_categories), count, folder_name)"
   ]
  },
  {
   "cell_type": "code",
   "execution_count": 14,
   "metadata": {
    "collapsed": true,
    "jupyter": {
     "outputs_hidden": true
    }
   },
   "outputs": [
    {
     "ename": "ZeroDivisionError",
     "evalue": "integer division or modulo by zero",
     "output_type": "error",
     "traceback": [
      "\u001b[1;31m---------------------------------------------------------------------------\u001b[0m",
      "\u001b[1;31mZeroDivisionError\u001b[0m                         Traceback (most recent call last)",
      "\u001b[1;32m<ipython-input-14-e69a2dc70173>\u001b[0m in \u001b[0;36m<module>\u001b[1;34m\u001b[0m\n\u001b[1;32m----> 1\u001b[1;33m \u001b[0mcreate_dataset\u001b[0m\u001b[1;33m(\u001b[0m\u001b[1;33m)\u001b[0m\u001b[1;33m\u001b[0m\u001b[1;33m\u001b[0m\u001b[0m\n\u001b[0m",
      "\u001b[1;32m<ipython-input-13-58b303d6fb48>\u001b[0m in \u001b[0;36mcreate_dataset\u001b[1;34m()\u001b[0m\n\u001b[0;32m      8\u001b[0m     \u001b[1;32mfor\u001b[0m \u001b[0mname\u001b[0m \u001b[1;32min\u001b[0m \u001b[0mtaken_categories\u001b[0m\u001b[1;33m:\u001b[0m\u001b[1;33m\u001b[0m\u001b[1;33m\u001b[0m\u001b[0m\n\u001b[0;32m      9\u001b[0m         \u001b[0mothers\u001b[0m\u001b[1;33m.\u001b[0m\u001b[0mremove\u001b[0m\u001b[1;33m(\u001b[0m\u001b[0mname\u001b[0m\u001b[1;33m)\u001b[0m\u001b[1;33m\u001b[0m\u001b[1;33m\u001b[0m\u001b[0m\n\u001b[1;32m---> 10\u001b[1;33m     \u001b[0mcount\u001b[0m \u001b[1;33m=\u001b[0m \u001b[0mnum_per_cate\u001b[0m \u001b[1;33m//\u001b[0m \u001b[0mlen\u001b[0m\u001b[1;33m(\u001b[0m\u001b[0mothers\u001b[0m\u001b[1;33m)\u001b[0m\u001b[1;33m\u001b[0m\u001b[1;33m\u001b[0m\u001b[0m\n\u001b[0m\u001b[0;32m     11\u001b[0m \u001b[1;33m\u001b[0m\u001b[0m\n\u001b[0;32m     12\u001b[0m     \u001b[1;32mfor\u001b[0m \u001b[0mcategory\u001b[0m \u001b[1;32min\u001b[0m \u001b[0mothers\u001b[0m\u001b[1;33m:\u001b[0m\u001b[1;33m\u001b[0m\u001b[1;33m\u001b[0m\u001b[0m\n",
      "\u001b[1;31mZeroDivisionError\u001b[0m: integer division or modulo by zero"
     ]
    }
   ],
   "source": [
    "create_dataset()"
   ]
  },
  {
   "cell_type": "code",
   "execution_count": 17,
   "metadata": {},
   "outputs": [],
   "source": [
    "pickle.dump(labels, open('meta/%s/labels.bin' % folder_name, 'wb'))"
   ]
  }
 ],
 "metadata": {
  "kernelspec": {
   "display_name": "Python 3.8.3 64-bit ('python38': conda)",
   "language": "python",
   "name": "python38364bitpython38conda62f8b6a22303428bafce4c8f8df402aa"
  },
  "language_info": {
   "codemirror_mode": {
    "name": "ipython",
    "version": 3
   },
   "file_extension": ".py",
   "mimetype": "text/x-python",
   "name": "python",
   "nbconvert_exporter": "python",
   "pygments_lexer": "ipython3",
   "version": "3.8.3"
  }
 },
 "nbformat": 4,
 "nbformat_minor": 4
}
